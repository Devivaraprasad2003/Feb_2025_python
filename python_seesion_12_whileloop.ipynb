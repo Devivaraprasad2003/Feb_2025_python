{
 "cells": [
  {
   "cell_type": "markdown",
   "id": "1a1fe5c3-788d-4a11-a428-dd8cbf4bd837",
   "metadata": {},
   "source": [
    "**While loop**"
   ]
  },
  {
   "cell_type": "code",
   "execution_count": 2,
   "id": "ec22ae6c-0199-48d4-83cb-ecf26e20f278",
   "metadata": {},
   "outputs": [
    {
     "name": "stdout",
     "output_type": "stream",
     "text": [
      "2 4 6 8 10 12 14 16 18 "
     ]
    }
   ],
   "source": [
    "i=2\n",
    "while i<=18:\n",
    "    print(i,end=' ')\n",
    "    i=i+2\n",
    "\n",
    "# S-1 i=2 while 2<=18 print(2) i=2+2=4\n",
    "# S-1 i=4 while 4<=18 print(4) i=4+2=6\n",
    "# S-1 i=6 while 6<=18 print(6) i=6+2=8\n",
    "\n",
    "# # S i=16 while 16<=18 print(16) i=16+2=18\n",
    "# S-1 i=18 while 18<=18 print(18) i=18+2=20\n",
    "# S-1 i=20 while 20<=18 False"
   ]
  },
  {
   "cell_type": "code",
   "execution_count": 4,
   "id": "52778844-fbd9-4a43-bbf9-79a8e4f44b73",
   "metadata": {},
   "outputs": [
    {
     "name": "stdout",
     "output_type": "stream",
     "text": [
      "2 4 6 8 10 12 14 16 "
     ]
    }
   ],
   "source": [
    "i=2\n",
    "while i<18:\n",
    "    print(i,end=' ')\n",
    "    i=i+2"
   ]
  },
  {
   "cell_type": "code",
   "execution_count": 6,
   "id": "13c3bd1d-9509-46b4-b6b3-e8246e148a17",
   "metadata": {},
   "outputs": [
    {
     "name": "stdout",
     "output_type": "stream",
     "text": [
      "2 4 6 8 10 12 14 16 "
     ]
    }
   ],
   "source": [
    "i=2\n",
    "while i!=18:\n",
    "    print(i,end=' ')\n",
    "    i=i+2"
   ]
  },
  {
   "cell_type": "code",
   "execution_count": 10,
   "id": "514f72cd-177e-4577-a884-63bdb46b1d60",
   "metadata": {},
   "outputs": [
    {
     "name": "stdout",
     "output_type": "stream",
     "text": [
      "10 9 8 7 6 5 4 3 2 1 "
     ]
    }
   ],
   "source": [
    "i=10\n",
    "while i>=1:\n",
    "    print(i,end=' ')\n",
    "    i=i-1\n",
    "\n",
    "# S-1 i=10 while 10>=0 print(10) i=10-1=9\n",
    "# S-1 i=9 while 9>=0 print(9) i=9-1=8\n",
    "# S-1 i=8 while 8>=0 print(8) i=8-1=7\n",
    "# S-1 i=7 while 7>=0 print(7) i=7-1=6\n",
    "\n",
    "# S i=2 while 2>=0 print(2) i=2-1=1\n",
    "# S i=1 while 1>=0 print(1) i=1-1=0"
   ]
  },
  {
   "cell_type": "code",
   "execution_count": 12,
   "id": "c6bdbc3d-6d7e-4c04-abbe-ff87ab8c5bdf",
   "metadata": {},
   "outputs": [
    {
     "name": "stdout",
     "output_type": "stream",
     "text": [
      "-10 -9 -8 -7 -6 -5 -4 -3 -2 -1 "
     ]
    }
   ],
   "source": [
    "i=-10\n",
    "while i<0:\n",
    "    print(i,end=' ')\n",
    "    i=i+1\n",
    "    \n"
   ]
  },
  {
   "cell_type": "code",
   "execution_count": 20,
   "id": "a7e4cb15-2549-414e-beda-4721413d74a7",
   "metadata": {},
   "outputs": [
    {
     "name": "stdout",
     "output_type": "stream",
     "text": [
      "-1 -2 -3 -4 -5 -6 -7 -8 -9 -10 "
     ]
    }
   ],
   "source": [
    "i=-1\n",
    "while i>-11:\n",
    "    print(i,end=' ')\n",
    "    i=i-1"
   ]
  },
  {
   "cell_type": "code",
   "execution_count": 24,
   "id": "c210e438-85ac-4f7c-8af8-1f2b9d4eb4f3",
   "metadata": {},
   "outputs": [
    {
     "name": "stdout",
     "output_type": "stream",
     "text": [
      "2 4 6 8 10 12 14 16 18 "
     ]
    }
   ],
   "source": [
    "i=2\n",
    "while True:\n",
    "    print(i,end=' ')\n",
    "    i=i+2\n",
    "    if i==20:\n",
    "        break"
   ]
  },
  {
   "cell_type": "code",
   "execution_count": 40,
   "id": "5c7000b4-02f2-4f42-891a-60b15343ccbd",
   "metadata": {},
   "outputs": [
    {
     "name": "stdout",
     "output_type": "stream",
     "text": [
      "-1 -2 -3 -4 -5 -6 -7 -8 -9 -10 "
     ]
    }
   ],
   "source": [
    "i=-1\n",
    "while True:\n",
    "    print(i,end=' ')\n",
    "    i=i-1\n",
    "    if i==-11:\n",
    "        break"
   ]
  },
  {
   "cell_type": "code",
   "execution_count": 36,
   "id": "324b133f-6651-47c5-9399-416e14569c7f",
   "metadata": {},
   "outputs": [
    {
     "name": "stdout",
     "output_type": "stream",
     "text": [
      "-10 -9 -8 -7 -6 -5 -4 -3 -2 "
     ]
    }
   ],
   "source": [
    "i=-10\n",
    "while True:\n",
    "    print(i,end=' ')\n",
    "    i=i+1\n",
    "    if i==-1:\n",
    "        break"
   ]
  },
  {
   "cell_type": "code",
   "execution_count": 7,
   "id": "ffe845c1-ab44-41bc-9106-e67b4c6ca251",
   "metadata": {},
   "outputs": [
    {
     "name": "stdout",
     "output_type": "stream",
     "text": [
      "5\n"
     ]
    },
    {
     "name": "stdin",
     "output_type": "stream",
     "text": [
      "enter the number: 5\n"
     ]
    },
    {
     "name": "stdout",
     "output_type": "stream",
     "text": [
      "won\n"
     ]
    }
   ],
   "source": [
    "import random\n",
    "n1=random.randint(1,10)\n",
    "print(n1)\n",
    "n2=eval(input('enter the number:'))\n",
    "if n1==n2:\n",
    "    print('won')\n",
    "else:\n",
    "    print('lost')"
   ]
  },
  {
   "cell_type": "code",
   "execution_count": 9,
   "id": "ab205b79-d707-458b-a6a6-10bb3deb6c7c",
   "metadata": {},
   "outputs": [
    {
     "name": "stdout",
     "output_type": "stream",
     "text": [
      "1\n"
     ]
    },
    {
     "name": "stdin",
     "output_type": "stream",
     "text": [
      "enter the number: 1\n"
     ]
    },
    {
     "name": "stdout",
     "output_type": "stream",
     "text": [
      "won\n"
     ]
    }
   ],
   "source": [
    "while True:\n",
    "    n1=random.randint(1,10)\n",
    "    print(n1)\n",
    "    n2=eval(input('enter the number:'))\n",
    "    if n1==n2:\n",
    "        print('won')\n",
    "        break\n",
    "    else:\n",
    "        print('lost')\n"
   ]
  },
  {
   "cell_type": "code",
   "execution_count": 11,
   "id": "95771fe7-0a78-4c3c-87d4-c5ea82efc69e",
   "metadata": {},
   "outputs": [
    {
     "name": "stdout",
     "output_type": "stream",
     "text": [
      "7\n"
     ]
    },
    {
     "name": "stdin",
     "output_type": "stream",
     "text": [
      "enter the number: 3\n"
     ]
    },
    {
     "name": "stdout",
     "output_type": "stream",
     "text": [
      "lost\n"
     ]
    },
    {
     "name": "stdin",
     "output_type": "stream",
     "text": [
      "enter the number: 3\n"
     ]
    },
    {
     "name": "stdout",
     "output_type": "stream",
     "text": [
      "lost\n"
     ]
    },
    {
     "name": "stdin",
     "output_type": "stream",
     "text": [
      "enter the number: 7\n"
     ]
    },
    {
     "name": "stdout",
     "output_type": "stream",
     "text": [
      "won\n"
     ]
    }
   ],
   "source": [
    "n1=random.randint(1,10)\n",
    "print(n1)\n",
    "while True:\n",
    "    n2=eval(input('enter the number:'))\n",
    "    if n1==n2:\n",
    "        print('won')\n",
    "        break\n",
    "    else:\n",
    "        print('lost')"
   ]
  },
  {
   "cell_type": "code",
   "execution_count": null,
   "id": "89dbbd76-202a-4ea2-b780-30c2d9aa1e05",
   "metadata": {},
   "outputs": [],
   "source": []
  }
 ],
 "metadata": {
  "kernelspec": {
   "display_name": "Python 3 (ipykernel)",
   "language": "python",
   "name": "python3"
  },
  "language_info": {
   "codemirror_mode": {
    "name": "ipython",
    "version": 3
   },
   "file_extension": ".py",
   "mimetype": "text/x-python",
   "name": "python",
   "nbconvert_exporter": "python",
   "pygments_lexer": "ipython3",
   "version": "3.12.4"
  }
 },
 "nbformat": 4,
 "nbformat_minor": 5
}
