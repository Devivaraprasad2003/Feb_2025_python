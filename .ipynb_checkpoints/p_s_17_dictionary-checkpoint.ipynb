{
 "cells": [
  {
   "cell_type": "markdown",
   "id": "2a35d8cc-be93-41e5-aa98-26986b4e07f8",
   "metadata": {},
   "source": [
    "- dont do overaction\n",
    "\n",
    "- do action\n",
    "\n",
    "- listen the class properly\n",
    "\n",
    "- chat with chatgpt"
   ]
  },
  {
   "cell_type": "code",
   "execution_count": 2,
   "id": "0393b28c-1529-4b58-acc2-511b7b5fda26",
   "metadata": {},
   "outputs": [
    {
     "name": "stdout",
     "output_type": "stream",
     "text": [
      "ramesh age is 20\n",
      "suresh age is 30\n",
      "satish age is 40\n"
     ]
    }
   ],
   "source": [
    "l1=['ramesh','suresh','satish']\n",
    "l2=[20,30,40]\n",
    "for i in range(len(l1)):\n",
    "    print(f'{l1[i]} age is {l2[i]}')\n",
    "    "
   ]
  },
  {
   "cell_type": "markdown",
   "id": "d630e83a-ce73-4621-90e8-40c1c76770a2",
   "metadata": {},
   "source": [
    "**zip**"
   ]
  },
  {
   "cell_type": "code",
   "execution_count": 4,
   "id": "4a953b0f-cf32-4ebf-a809-417ce46a1a23",
   "metadata": {},
   "outputs": [
    {
     "name": "stdout",
     "output_type": "stream",
     "text": [
      "ramesh 20\n",
      "ramesh age is 20\n",
      "suresh 30\n",
      "suresh age is 30\n",
      "satish 40\n",
      "satish age is 40\n"
     ]
    }
   ],
   "source": [
    "l1=['ramesh','suresh','satish']\n",
    "l2=[20,30,40]\n",
    "for i,j in zip(l1,l2):\n",
    "    print(i,j)\n",
    "    print(f'{i} age is {j}')"
   ]
  },
  {
   "cell_type": "code",
   "execution_count": 8,
   "id": "dce7d30d-4a25-4729-a7f2-769e9007f3d7",
   "metadata": {},
   "outputs": [
    {
     "name": "stdout",
     "output_type": "stream",
     "text": [
      "ramesh age is 20 and from hyd\n",
      "suresh age is 30 and from pune\n",
      "satish age is 40 and from chennai\n"
     ]
    }
   ],
   "source": [
    "l1=['ramesh','suresh','satish']\n",
    "l2=[20,30,40]\n",
    "l3=['hyd','pune','chennai']\n",
    "for i,j,k in zip(l1,l2,l3):\n",
    "    print(f'{i} age is {j} and from {k}')"
   ]
  },
  {
   "cell_type": "markdown",
   "id": "501d0d00-9157-4a3a-979e-26503492eb60",
   "metadata": {},
   "source": [
    "**dictionary**"
   ]
  },
  {
   "cell_type": "code",
   "execution_count": 13,
   "id": "bbda7e68-7940-4170-b6c5-fc0698c3ccc3",
   "metadata": {},
   "outputs": [
    {
     "data": {
      "text/plain": [
       "{'ramesh': 20, 'suresh': 30, 'satish': 40}"
      ]
     },
     "execution_count": 13,
     "metadata": {},
     "output_type": "execute_result"
    }
   ],
   "source": [
    "dict1={'ramesh':20,'suresh':30,'satish':40}\n",
    "dict1"
   ]
  },
  {
   "cell_type": "code",
   "execution_count": 15,
   "id": "9b8a9bd5-0842-45bf-8969-08de08eedf19",
   "metadata": {},
   "outputs": [
    {
     "data": {
      "text/plain": [
       "dict"
      ]
     },
     "execution_count": 15,
     "metadata": {},
     "output_type": "execute_result"
    }
   ],
   "source": [
    "type(dict1)"
   ]
  },
  {
   "cell_type": "markdown",
   "id": "fba43746-b786-4baa-a0c9-a5eb69a2445a",
   "metadata": {},
   "source": [
    "**initialization**"
   ]
  },
  {
   "cell_type": "code",
   "execution_count": 22,
   "id": "a0e7b577-e448-449f-917e-f359b484c365",
   "metadata": {},
   "outputs": [
    {
     "data": {
      "text/plain": [
       "{'ramesh': 20, 'suresh': 30, 'satish': 40}"
      ]
     },
     "execution_count": 22,
     "metadata": {},
     "output_type": "execute_result"
    }
   ],
   "source": [
    "dict1={'ramesh':20,'suresh':30,'satish':40}\n",
    "dict1"
   ]
  },
  {
   "cell_type": "code",
   "execution_count": 56,
   "id": "b756a850-b31e-4c6e-a12b-0e96e9ad720d",
   "metadata": {},
   "outputs": [
    {
     "data": {
      "text/plain": [
       "{20: 'ramesh'}"
      ]
     },
     "execution_count": 56,
     "metadata": {},
     "output_type": "execute_result"
    }
   ],
   "source": [
    "dict2={20:'ramesh'}\n",
    "dict2"
   ]
  },
  {
   "cell_type": "code",
   "execution_count": 60,
   "id": "70d36274-9143-46ba-a414-1ed78f3413c0",
   "metadata": {},
   "outputs": [
    {
     "data": {
      "text/plain": [
       "{'ramesh': 30}"
      ]
     },
     "execution_count": 60,
     "metadata": {},
     "output_type": "execute_result"
    }
   ],
   "source": [
    "dict2={'ramesh':20,'ramesh':30}\n",
    "dict2\n",
    "#keys are important\n",
    "#when same keys but different value\n",
    "#it will take the latest value"
   ]
  },
  {
   "cell_type": "code",
   "execution_count": 54,
   "id": "15a733d8-a24f-4fb5-819c-8d1da64d6037",
   "metadata": {},
   "outputs": [
    {
     "data": {
      "text/plain": [
       "{20: 20}"
      ]
     },
     "execution_count": 54,
     "metadata": {},
     "output_type": "execute_result"
    }
   ],
   "source": [
    "dict2={20:20}\n",
    "dict2"
   ]
  },
  {
   "cell_type": "code",
   "execution_count": 52,
   "id": "6206c408-83c3-4a4b-8b77-8c94d5923abe",
   "metadata": {},
   "outputs": [
    {
     "data": {
      "text/plain": [
       "{'ramesh': 'ramesh'}"
      ]
     },
     "execution_count": 52,
     "metadata": {},
     "output_type": "execute_result"
    }
   ],
   "source": [
    "dict2={'ramesh':'ramesh'}\n",
    "dict2"
   ]
  },
  {
   "cell_type": "code",
   "execution_count": 48,
   "id": "674ceceb-fe15-4fcb-afe9-99c1b23ec255",
   "metadata": {},
   "outputs": [
    {
     "name": "stdout",
     "output_type": "stream",
     "text": [
      "{'ramesh': [20]}\n"
     ]
    }
   ],
   "source": [
    "dict2={'ramesh':[20]}\n",
    "print(dict2)"
   ]
  },
  {
   "cell_type": "code",
   "execution_count": 77,
   "id": "8b15ecb5-9bf8-4a2d-a1e6-a5baf883ed03",
   "metadata": {},
   "outputs": [
    {
     "name": "stdout",
     "output_type": "stream",
     "text": [
      "{'ramesh': 20}\n"
     ]
    }
   ],
   "source": [
    "dict2 = {('ramesh'):20}\n",
    "print(dict2)\n"
   ]
  },
  {
   "cell_type": "code",
   "execution_count": 58,
   "id": "2232a350-9eca-418d-90d2-e26d15af642c",
   "metadata": {},
   "outputs": [
    {
     "data": {
      "text/plain": [
       "{'ramesh': '20'}"
      ]
     },
     "execution_count": 58,
     "metadata": {},
     "output_type": "execute_result"
    }
   ],
   "source": [
    "dict2={'ramesh':'20'}\n",
    "dict2"
   ]
  },
  {
   "cell_type": "code",
   "execution_count": 62,
   "id": "2727a61a-4337-47df-bd8b-d0949ebaf3e8",
   "metadata": {},
   "outputs": [
    {
     "data": {
      "text/plain": [
       "{'ramesh': 20, 'suresh': 20, 'satish': 20}"
      ]
     },
     "execution_count": 62,
     "metadata": {},
     "output_type": "execute_result"
    }
   ],
   "source": [
    "dict1={'ramesh':20,'suresh':20,'satish':20}\n",
    "dict1"
   ]
  },
  {
   "cell_type": "code",
   "execution_count": 64,
   "id": "c7f0768f-e21b-4ccd-9f47-f8c2cd106b60",
   "metadata": {},
   "outputs": [
    {
     "data": {
      "text/plain": [
       "{'ramesh': 20}"
      ]
     },
     "execution_count": 64,
     "metadata": {},
     "output_type": "execute_result"
    }
   ],
   "source": [
    "dict1={'ramesh':20,'ramesh':20}\n",
    "dict1\n",
    "# duplicates are not allowed"
   ]
  },
  {
   "cell_type": "code",
   "execution_count": 66,
   "id": "1ccff2c8-6fae-4349-be0e-275157ca90ca",
   "metadata": {},
   "outputs": [
    {
     "data": {
      "text/plain": [
       "{'age': [10, 20, 30]}"
      ]
     },
     "execution_count": 66,
     "metadata": {},
     "output_type": "execute_result"
    }
   ],
   "source": [
    "d3={'age':[10,20,30]}\n",
    "d3\n",
    "# list can be a value"
   ]
  },
  {
   "cell_type": "markdown",
   "id": "d44ffbe7-9476-41a8-a0f3-fc1af235bdc5",
   "metadata": {},
   "source": [
    "- list is mutable \n",
    "- tuple is immutable\n",
    "- so list cannot be a key\n",
    "- **keys are important**"
   ]
  },
  {
   "cell_type": "code",
   "execution_count": 69,
   "id": "f360d30d-c07a-4bec-85d9-5393c047b223",
   "metadata": {},
   "outputs": [
    {
     "data": {
      "text/plain": [
       "{'fruits': {'apple': 20}}"
      ]
     },
     "execution_count": 69,
     "metadata": {},
     "output_type": "execute_result"
    }
   ],
   "source": [
    "d4={'fruits':{'apple':20}}\n",
    "d4"
   ]
  },
  {
   "cell_type": "code",
   "execution_count": 71,
   "id": "84187c7c-da8c-4092-8832-9e603bf72ebb",
   "metadata": {},
   "outputs": [
    {
     "ename": "TypeError",
     "evalue": "unhashable type: 'dict'",
     "output_type": "error",
     "traceback": [
      "\u001b[1;31m---------------------------------------------------------------------------\u001b[0m",
      "\u001b[1;31mTypeError\u001b[0m                                 Traceback (most recent call last)",
      "Cell \u001b[1;32mIn[71], line 1\u001b[0m\n\u001b[1;32m----> 1\u001b[0m d4\u001b[38;5;241m=\u001b[39m{{\u001b[38;5;124m'\u001b[39m\u001b[38;5;124mapple\u001b[39m\u001b[38;5;124m'\u001b[39m: \u001b[38;5;241m20\u001b[39m}:\u001b[38;5;124m'\u001b[39m\u001b[38;5;124mfruits\u001b[39m\u001b[38;5;124m'\u001b[39m}\n\u001b[0;32m      2\u001b[0m d4\n",
      "\u001b[1;31mTypeError\u001b[0m: unhashable type: 'dict'"
     ]
    }
   ],
   "source": [
    "d4={{'apple': 20}:'fruits'}\n",
    "d4"
   ]
  },
  {
   "cell_type": "code",
   "execution_count": 79,
   "id": "09c4f33a-db79-44f1-bce7-487eece8b623",
   "metadata": {},
   "outputs": [
    {
     "data": {
      "text/plain": [
       "{(10, 20, 30): ['a', 'b', 'c']}"
      ]
     },
     "execution_count": 79,
     "metadata": {},
     "output_type": "execute_result"
    }
   ],
   "source": [
    "d4={(10,20,30):['a','b','c']}\n",
    "d4"
   ]
  },
  {
   "cell_type": "markdown",
   "id": "fe06f838-c782-414b-a35b-59c1abc730af",
   "metadata": {},
   "source": [
    "**inbuilt-functions**"
   ]
  },
  {
   "cell_type": "code",
   "execution_count": 89,
   "id": "1e47c797-955d-4bfa-a522-5cf5c42644cb",
   "metadata": {},
   "outputs": [
    {
     "name": "stdout",
     "output_type": "stream",
     "text": [
      "suresh\n",
      "suresh\n",
      "40\n"
     ]
    },
    {
     "ename": "TypeError",
     "evalue": "'>' not supported between instances of 'int' and 'str'",
     "output_type": "error",
     "traceback": [
      "\u001b[1;31m---------------------------------------------------------------------------\u001b[0m",
      "\u001b[1;31mTypeError\u001b[0m                                 Traceback (most recent call last)",
      "Cell \u001b[1;32mIn[89], line 8\u001b[0m\n\u001b[0;32m      6\u001b[0m \u001b[38;5;28mprint\u001b[39m(\u001b[38;5;28mmax\u001b[39m(d3))\n\u001b[0;32m      7\u001b[0m d4\u001b[38;5;241m=\u001b[39m{\u001b[38;5;124m'\u001b[39m\u001b[38;5;124mramesh\u001b[39m\u001b[38;5;124m'\u001b[39m:\u001b[38;5;124m'\u001b[39m\u001b[38;5;124m20\u001b[39m\u001b[38;5;124m'\u001b[39m,\u001b[38;5;124m'\u001b[39m\u001b[38;5;124msuresh\u001b[39m\u001b[38;5;124m'\u001b[39m:\u001b[38;5;241m30\u001b[39m,\u001b[38;5;241m40\u001b[39m:\u001b[38;5;124m'\u001b[39m\u001b[38;5;124msatish\u001b[39m\u001b[38;5;124m'\u001b[39m}\n\u001b[1;32m----> 8\u001b[0m \u001b[38;5;28mprint\u001b[39m(\u001b[38;5;28mmax\u001b[39m(d4))\n",
      "\u001b[1;31mTypeError\u001b[0m: '>' not supported between instances of 'int' and 'str'"
     ]
    }
   ],
   "source": [
    "d1={'ramesh':20,'suresh':30,'satish':40}\n",
    "print(max(d1))\n",
    "d2={'ramesh':'20','suresh':'30','satish':'40'}\n",
    "print(max(d2))\n",
    "d3={20:'ramesh',30:'suresh',40:'satish'}\n",
    "print(max(d3))\n",
    "d4={'ramesh':'20','suresh':30,40:'satish'}\n",
    "print(max(d4))"
   ]
  },
  {
   "cell_type": "code",
   "execution_count": 91,
   "id": "588ab39d-47bb-4c94-8bcc-524ed6752c28",
   "metadata": {},
   "outputs": [
    {
     "name": "stdout",
     "output_type": "stream",
     "text": [
      "ramesh\n",
      "ramesh\n",
      "20\n"
     ]
    },
    {
     "ename": "TypeError",
     "evalue": "'<' not supported between instances of 'int' and 'str'",
     "output_type": "error",
     "traceback": [
      "\u001b[1;31m---------------------------------------------------------------------------\u001b[0m",
      "\u001b[1;31mTypeError\u001b[0m                                 Traceback (most recent call last)",
      "Cell \u001b[1;32mIn[91], line 8\u001b[0m\n\u001b[0;32m      6\u001b[0m \u001b[38;5;28mprint\u001b[39m(\u001b[38;5;28mmin\u001b[39m(d3))\n\u001b[0;32m      7\u001b[0m d4\u001b[38;5;241m=\u001b[39m{\u001b[38;5;124m'\u001b[39m\u001b[38;5;124mramesh\u001b[39m\u001b[38;5;124m'\u001b[39m:\u001b[38;5;124m'\u001b[39m\u001b[38;5;124m20\u001b[39m\u001b[38;5;124m'\u001b[39m,\u001b[38;5;124m'\u001b[39m\u001b[38;5;124msuresh\u001b[39m\u001b[38;5;124m'\u001b[39m:\u001b[38;5;241m30\u001b[39m,\u001b[38;5;241m40\u001b[39m:\u001b[38;5;124m'\u001b[39m\u001b[38;5;124msatish\u001b[39m\u001b[38;5;124m'\u001b[39m}\n\u001b[1;32m----> 8\u001b[0m \u001b[38;5;28mprint\u001b[39m(\u001b[38;5;28mmin\u001b[39m(d4))\n",
      "\u001b[1;31mTypeError\u001b[0m: '<' not supported between instances of 'int' and 'str'"
     ]
    }
   ],
   "source": [
    "d1={'ramesh':20,'suresh':30,'satish':40}\n",
    "print(min(d1))\n",
    "d2={'ramesh':'20','suresh':'30','satish':'40'}\n",
    "print(min(d2))\n",
    "d3={20:'ramesh',30:'suresh',40:'satish'}\n",
    "print(min(d3))\n",
    "d4={'ramesh':'20','suresh':30,40:'satish'}\n",
    "print(min(d4))"
   ]
  },
  {
   "cell_type": "code",
   "execution_count": 93,
   "id": "65e5a53b-0350-4fd4-9065-ed45fe47518c",
   "metadata": {},
   "outputs": [
    {
     "name": "stdout",
     "output_type": "stream",
     "text": [
      "3\n",
      "3\n",
      "3\n",
      "3\n"
     ]
    }
   ],
   "source": [
    "d1={'ramesh':20,'suresh':30,'satish':40}\n",
    "print(len(d1))\n",
    "d2={'ramesh':'20','suresh':'30','satish':'40'}\n",
    "print(len(d2))\n",
    "d3={20:'ramesh',30:'suresh',40:'satish'}\n",
    "print(len(d3))\n",
    "d4={'ramesh':'20','suresh':30,40:'satish'}\n",
    "print(len(d4))"
   ]
  },
  {
   "cell_type": "code",
   "execution_count": 100,
   "id": "45acccbc-81c4-4658-a92a-66b3d91ea210",
   "metadata": {},
   "outputs": [
    {
     "name": "stdout",
     "output_type": "stream",
     "text": [
      "['ramesh', 'satish', 'suresh']\n",
      "['ramesh', 'satish', 'suresh']\n",
      "[20, 30, 40]\n"
     ]
    }
   ],
   "source": [
    "d1={'ramesh':20,'suresh':30,'satish':40}\n",
    "print(sorted(d1))\n",
    "d2={'ramesh':'20','suresh':'30','satish':'40'}\n",
    "print(sorted(d2))\n",
    "d3={20:'ramesh',30:'suresh',40:'satish'}\n",
    "print(sorted(d3))\n"
   ]
  },
  {
   "cell_type": "code",
   "execution_count": 102,
   "id": "476a8971-36ee-4253-8516-cb6aa8a58aab",
   "metadata": {},
   "outputs": [
    {
     "data": {
      "text/plain": [
       "[40, 'suresh', 'ramesh']"
      ]
     },
     "execution_count": 102,
     "metadata": {},
     "output_type": "execute_result"
    }
   ],
   "source": [
    "d4={'ramesh':'20','suresh':30,40:'satish'}\n",
    "list(reversed(d4))"
   ]
  },
  {
   "cell_type": "code",
   "execution_count": 98,
   "id": "167f4d7d-46ba-4847-a133-350b57eb7f4d",
   "metadata": {},
   "outputs": [
    {
     "ename": "TypeError",
     "evalue": "unsupported operand type(s) for +: 'int' and 'str'",
     "output_type": "error",
     "traceback": [
      "\u001b[1;31m---------------------------------------------------------------------------\u001b[0m",
      "\u001b[1;31mTypeError\u001b[0m                                 Traceback (most recent call last)",
      "Cell \u001b[1;32mIn[98], line 1\u001b[0m\n\u001b[1;32m----> 1\u001b[0m \u001b[38;5;28msum\u001b[39m(d1)\n",
      "\u001b[1;31mTypeError\u001b[0m: unsupported operand type(s) for +: 'int' and 'str'"
     ]
    }
   ],
   "source": [
    "sum(d1)"
   ]
  },
  {
   "cell_type": "markdown",
   "id": "bc28c705-348a-4bae-9e7e-f13885797a01",
   "metadata": {},
   "source": [
    "- max/min/sorted can work for homogeneous(means same datatype)\n",
    "- sum is only worked for numbers only\n",
    "- reversed can work anywhere"
   ]
  },
  {
   "cell_type": "markdown",
   "id": "ddf14b12-d781-4929-a61c-b8932f622fe2",
   "metadata": {},
   "source": [
    "**index**"
   ]
  },
  {
   "cell_type": "code",
   "execution_count": 106,
   "id": "9fba99ee-e865-4459-b37b-9c6283e82350",
   "metadata": {},
   "outputs": [
    {
     "ename": "KeyError",
     "evalue": "0",
     "output_type": "error",
     "traceback": [
      "\u001b[1;31m---------------------------------------------------------------------------\u001b[0m",
      "\u001b[1;31mKeyError\u001b[0m                                  Traceback (most recent call last)",
      "Cell \u001b[1;32mIn[106], line 2\u001b[0m\n\u001b[0;32m      1\u001b[0m d1\u001b[38;5;241m=\u001b[39m{\u001b[38;5;124m'\u001b[39m\u001b[38;5;124mramesh\u001b[39m\u001b[38;5;124m'\u001b[39m:\u001b[38;5;241m20\u001b[39m,\u001b[38;5;124m'\u001b[39m\u001b[38;5;124msuresh\u001b[39m\u001b[38;5;124m'\u001b[39m:\u001b[38;5;241m30\u001b[39m,\u001b[38;5;124m'\u001b[39m\u001b[38;5;124msatish\u001b[39m\u001b[38;5;124m'\u001b[39m:\u001b[38;5;241m40\u001b[39m}\n\u001b[1;32m----> 2\u001b[0m d1[\u001b[38;5;241m0\u001b[39m]\n",
      "\u001b[1;31mKeyError\u001b[0m: 0"
     ]
    }
   ],
   "source": [
    "d1={'ramesh':20,'suresh':30,'satish':40}\n",
    "d1[0]"
   ]
  },
  {
   "cell_type": "code",
   "execution_count": 110,
   "id": "9862c139-0dc6-43a2-bc70-2230e31e2723",
   "metadata": {},
   "outputs": [
    {
     "data": {
      "text/plain": [
       "(30, 40)"
      ]
     },
     "execution_count": 110,
     "metadata": {},
     "output_type": "execute_result"
    }
   ],
   "source": [
    "d1['suresh'],d1['satish']"
   ]
  },
  {
   "cell_type": "code",
   "execution_count": 114,
   "id": "2b225a2b-a849-4661-ade1-4c263c633f3e",
   "metadata": {},
   "outputs": [
    {
     "name": "stdout",
     "output_type": "stream",
     "text": [
      "ramesh 20\n",
      "suresh 30\n",
      "satish 40\n"
     ]
    }
   ],
   "source": [
    "d1={'ramesh':20,'suresh':30,'satish':40}\n",
    "for i in d1:\n",
    "    print(i,d1[i])"
   ]
  },
  {
   "cell_type": "code",
   "execution_count": 118,
   "id": "d5974957-2b22-4451-b90f-44912c5ba5e1",
   "metadata": {},
   "outputs": [
    {
     "name": "stdout",
     "output_type": "stream",
     "text": [
      "ramesh has age of :20\n",
      "suresh has age of :30\n",
      "satish has age of :40\n"
     ]
    }
   ],
   "source": [
    "d1={'ramesh':20,'suresh':30,'satish':40}\n",
    "for i in d1:\n",
    "    print(f'{i} has age of :{d1[i]}')"
   ]
  },
  {
   "cell_type": "markdown",
   "id": "6cfb1ec6-16c5-459a-8d16-762759765528",
   "metadata": {},
   "source": [
    "- whenever we iterate dictionary using for loop  in operator it will give keys\n",
    "- if we want to get values we will access through key only\n",
    "- key will work as index"
   ]
  },
  {
   "cell_type": "code",
   "execution_count": 125,
   "id": "64b296a9-625b-4ea9-ba2e-dd0044692ec0",
   "metadata": {},
   "outputs": [
    {
     "data": {
      "text/plain": [
       "'banana'"
      ]
     },
     "execution_count": 125,
     "metadata": {},
     "output_type": "execute_result"
    }
   ],
   "source": [
    "d1={'fruits':['apple','banana','cherry']}\n",
    "d1['fruits'][1]"
   ]
  },
  {
   "cell_type": "code",
   "execution_count": 139,
   "id": "386258ae-011c-4e62-a27e-bf8496a13443",
   "metadata": {},
   "outputs": [
    {
     "data": {
      "text/plain": [
       "'Green'"
      ]
     },
     "execution_count": 139,
     "metadata": {},
     "output_type": "execute_result"
    }
   ],
   "source": [
    "d1={'fruits':{'Appple':['Sweet','Green','custred']}}\n",
    "d1['fruits']['Appple'][1]"
   ]
  },
  {
   "cell_type": "code",
   "execution_count": 149,
   "id": "1c557abf-5ef7-4f57-ba96-53fba8be882b",
   "metadata": {},
   "outputs": [
    {
     "data": {
      "text/plain": [
       "300"
      ]
     },
     "execution_count": 149,
     "metadata": {},
     "output_type": "execute_result"
    }
   ],
   "source": [
    "d1={'Fruites':[{'Cost':[100,200,300]}]}\n",
    "d1['Fruites'][0]['Cost'][2]"
   ]
  },
  {
   "cell_type": "code",
   "execution_count": 167,
   "id": "7f355287-3ba1-4c8e-be55-f9a9afc87ef0",
   "metadata": {},
   "outputs": [
    {
     "data": {
      "text/plain": [
       "'None'"
      ]
     },
     "execution_count": 167,
     "metadata": {},
     "output_type": "execute_result"
    }
   ],
   "source": [
    "d1={'Fruites':['Apple'],'Cost':[{'1kg':[300,500],'2kg':['None']}]}\n",
    "d1['Cost'][0]['2kg'][0]"
   ]
  },
  {
   "cell_type": "code",
   "execution_count": 187,
   "id": "c567d8e0-01cb-4453-a4b2-496acc18304b",
   "metadata": {},
   "outputs": [
    {
     "ename": "TypeError",
     "evalue": "'set' object is not subscriptable",
     "output_type": "error",
     "traceback": [
      "\u001b[1;31m---------------------------------------------------------------------------\u001b[0m",
      "\u001b[1;31mTypeError\u001b[0m                                 Traceback (most recent call last)",
      "Cell \u001b[1;32mIn[187], line 2\u001b[0m\n\u001b[0;32m      1\u001b[0m d1\u001b[38;5;241m=\u001b[39m{\u001b[38;5;124m'\u001b[39m\u001b[38;5;124mFruites\u001b[39m\u001b[38;5;124m'\u001b[39m:{\u001b[38;5;124m'\u001b[39m\u001b[38;5;124mMango\u001b[39m\u001b[38;5;124m'\u001b[39m:{\u001b[38;5;124m'\u001b[39m\u001b[38;5;124mNagpur\u001b[39m\u001b[38;5;124m'\u001b[39m:{\u001b[38;5;124m'\u001b[39m\u001b[38;5;124mMH\u001b[39m\u001b[38;5;124m'\u001b[39m:{\u001b[38;5;124m'\u001b[39m\u001b[38;5;124mKing\u001b[39m\u001b[38;5;124m'\u001b[39m:{\u001b[38;5;124m'\u001b[39m\u001b[38;5;124mShivaji\u001b[39m\u001b[38;5;124m'\u001b[39m:{\u001b[38;5;124m'\u001b[39m\u001b[38;5;124mShambaji\u001b[39m\u001b[38;5;124m'\u001b[39m}}}}}}}\n\u001b[1;32m----> 2\u001b[0m d1[\u001b[38;5;124m'\u001b[39m\u001b[38;5;124mFruites\u001b[39m\u001b[38;5;124m'\u001b[39m][\u001b[38;5;124m'\u001b[39m\u001b[38;5;124mMango\u001b[39m\u001b[38;5;124m'\u001b[39m][\u001b[38;5;124m'\u001b[39m\u001b[38;5;124mNagpur\u001b[39m\u001b[38;5;124m'\u001b[39m][\u001b[38;5;124m'\u001b[39m\u001b[38;5;124mMH\u001b[39m\u001b[38;5;124m'\u001b[39m][\u001b[38;5;124m'\u001b[39m\u001b[38;5;124mKing\u001b[39m\u001b[38;5;124m'\u001b[39m][\u001b[38;5;124m'\u001b[39m\u001b[38;5;124mShivaji\u001b[39m\u001b[38;5;124m'\u001b[39m][\u001b[38;5;241m0\u001b[39m]\n",
      "\u001b[1;31mTypeError\u001b[0m: 'set' object is not subscriptable"
     ]
    }
   ],
   "source": [
    "d1={'Fruites':{'Mango':{'Nagpur':{'MH':{'King':{'Shivaji':{'Shambaji'}}}}}}}\n",
    "d1['Fruites']['Mango']['Nagpur']['MH']['King']['Shivaji']"
   ]
  },
  {
   "cell_type": "code",
   "execution_count": 189,
   "id": "d1c2e2a6-4c21-4359-bc73-438c8ed093a1",
   "metadata": {},
   "outputs": [
    {
     "data": {
      "text/plain": [
       "['__class__',\n",
       " '__class_getitem__',\n",
       " '__contains__',\n",
       " '__delattr__',\n",
       " '__delitem__',\n",
       " '__dir__',\n",
       " '__doc__',\n",
       " '__eq__',\n",
       " '__format__',\n",
       " '__ge__',\n",
       " '__getattribute__',\n",
       " '__getitem__',\n",
       " '__getstate__',\n",
       " '__gt__',\n",
       " '__hash__',\n",
       " '__init__',\n",
       " '__init_subclass__',\n",
       " '__ior__',\n",
       " '__iter__',\n",
       " '__le__',\n",
       " '__len__',\n",
       " '__lt__',\n",
       " '__ne__',\n",
       " '__new__',\n",
       " '__or__',\n",
       " '__reduce__',\n",
       " '__reduce_ex__',\n",
       " '__repr__',\n",
       " '__reversed__',\n",
       " '__ror__',\n",
       " '__setattr__',\n",
       " '__setitem__',\n",
       " '__sizeof__',\n",
       " '__str__',\n",
       " '__subclasshook__',\n",
       " 'clear',\n",
       " 'copy',\n",
       " 'fromkeys',\n",
       " 'get',\n",
       " 'items',\n",
       " 'keys',\n",
       " 'pop',\n",
       " 'popitem',\n",
       " 'setdefault',\n",
       " 'update',\n",
       " 'values']"
      ]
     },
     "execution_count": 189,
     "metadata": {},
     "output_type": "execute_result"
    }
   ],
   "source": [
    "dir({})"
   ]
  },
  {
   "cell_type": "markdown",
   "id": "c3920c14-6ac9-4c4a-8a86-d6258180856e",
   "metadata": {},
   "source": [
    "**how to convert list to dictionary**"
   ]
  },
  {
   "cell_type": "code",
   "execution_count": 2,
   "id": "9559d5e5-4d00-4f69-a7a3-fc8a3a1b4226",
   "metadata": {},
   "outputs": [
    {
     "name": "stdout",
     "output_type": "stream",
     "text": [
      "ramesh 20\n",
      "suresh 30\n",
      "satish 40\n"
     ]
    }
   ],
   "source": [
    "names=['ramesh','suresh','satish']\n",
    "age=[20,30,40]\n",
    "d1={}\n",
    "for i,j in zip(names,age):\n",
    "    print(i,j)"
   ]
  },
  {
   "cell_type": "code",
   "execution_count": 14,
   "id": "5f704325-bf61-4174-8fb2-ccea149e597d",
   "metadata": {},
   "outputs": [
    {
     "data": {
      "text/plain": [
       "{'ramesh': 20, 'suresh': 30, 'satish': 40}"
      ]
     },
     "execution_count": 14,
     "metadata": {},
     "output_type": "execute_result"
    }
   ],
   "source": [
    "name=['ramesh','suresh','satish']\n",
    "age=[20,30,40]\n",
    "d1={}\n",
    "d1['ramesh']=20\n",
    "d1['suresh']=30\n",
    "d1['satish']=40\n",
    "d1 #d1[i]=j"
   ]
  },
  {
   "cell_type": "code",
   "execution_count": 18,
   "id": "d28a3a91-3833-4bde-bdde-2456fce51556",
   "metadata": {},
   "outputs": [
    {
     "data": {
      "text/plain": [
       "{'ramesh': 20, 'suresh': 30, 'satish': 40}"
      ]
     },
     "execution_count": 18,
     "metadata": {},
     "output_type": "execute_result"
    }
   ],
   "source": [
    "name=['ramesh','suresh','satish']\n",
    "age=[20,30,40]\n",
    "d1={}\n",
    "for i,j in zip(name,age):\n",
    "    d1[i]=j\n",
    "d1"
   ]
  },
  {
   "cell_type": "markdown",
   "id": "4e81b727-64f7-4d15-9cc9-d17c5df69fb3",
   "metadata": {},
   "source": [
    "**how to convert  dictionary to list**"
   ]
  },
  {
   "cell_type": "code",
   "execution_count": 21,
   "id": "7c63f8e0-8610-4afe-9dd8-db0c5de16c16",
   "metadata": {},
   "outputs": [
    {
     "name": "stdout",
     "output_type": "stream",
     "text": [
      "ramesh\n",
      "suresh\n",
      "satish\n"
     ]
    }
   ],
   "source": [
    "d1={'ramesh': 20, 'suresh': 30, 'satish': 40}\n",
    "for i in d1:\n",
    "    print(i)"
   ]
  },
  {
   "cell_type": "code",
   "execution_count": 41,
   "id": "2f5171d6-0c4b-491b-a94f-8ec3f2e5760f",
   "metadata": {},
   "outputs": [
    {
     "data": {
      "text/plain": [
       "(['ramesh', 'suresh', 'satish'], [20, 30, 40])"
      ]
     },
     "execution_count": 41,
     "metadata": {},
     "output_type": "execute_result"
    }
   ],
   "source": [
    "d1={'ramesh': 20, 'suresh': 30, 'satish': 40}\n",
    "keys=[]\n",
    "values=[]\n",
    "for key in d1:\n",
    "    keys.append(key)\n",
    "    values.append(d1[key])\n",
    "keys,values"
   ]
  },
  {
   "cell_type": "code",
   "execution_count": 33,
   "id": "7fba1355-87b3-48d9-99de-30537362deea",
   "metadata": {},
   "outputs": [
    {
     "data": {
      "text/plain": [
       "[0, 1, 2, 3, 4, 5, 6, 7, 8, 9]"
      ]
     },
     "execution_count": 33,
     "metadata": {},
     "output_type": "execute_result"
    }
   ],
   "source": [
    "l=[i for i in range(10)]\n",
    "l"
   ]
  },
  {
   "cell_type": "code",
   "execution_count": 71,
   "id": "89db8a41-9ab9-4d96-824d-b4dea628a426",
   "metadata": {},
   "outputs": [
    {
     "data": {
      "text/plain": [
       "(['ramesh', 'suresh', 'satish'], [20, 30, 40])"
      ]
     },
     "execution_count": 71,
     "metadata": {},
     "output_type": "execute_result"
    }
   ],
   "source": [
    "d1={'ramesh': 20, 'suresh': 30, 'satish': 40}\n",
    "keys=[key for key in d1]\n",
    "values=[d1[key] for key in d1]\n",
    "keys,values"
   ]
  },
  {
   "cell_type": "code",
   "execution_count": 81,
   "id": "f74acb7d-4291-4f28-89d4-5347726469af",
   "metadata": {},
   "outputs": [
    {
     "data": {
      "text/plain": [
       "{'ramesh': 20, 'suresh': 30, 'satish': 40}"
      ]
     },
     "execution_count": 81,
     "metadata": {},
     "output_type": "execute_result"
    }
   ],
   "source": [
    "name=['ramesh','suresh','satish']\n",
    "age=[20,30,40]\n",
    "d1={}\n",
    "for i,j in zip(name,age):\n",
    "    d1[i]=j\n",
    "d1"
   ]
  },
  {
   "cell_type": "code",
   "execution_count": null,
   "id": "02e54dd1-d3a6-4a7b-8a58-160410c2e9c8",
   "metadata": {},
   "outputs": [],
   "source": []
  },
  {
   "cell_type": "code",
   "execution_count": 45,
   "id": "6ca80664-5289-42af-a78f-ca89d5402f0f",
   "metadata": {},
   "outputs": [
    {
     "data": {
      "text/plain": [
       "{'ramesh': 20, 'suresh': 30, 'satish': 40}"
      ]
     },
     "execution_count": 45,
     "metadata": {},
     "output_type": "execute_result"
    }
   ],
   "source": [
    "name=['ramesh','suresh','satish']\n",
    "age=[20,30,40]\n",
    "d1={key:value for key,value in zip(name,age)}\n",
    "d1"
   ]
  },
  {
   "cell_type": "markdown",
   "id": "1bee4b81-31e6-4b4e-8f4d-c2691aa6aa9c",
   "metadata": {},
   "source": [
    "**concatenation**"
   ]
  },
  {
   "cell_type": "code",
   "execution_count": 48,
   "id": "75be7efe-747a-4e35-aa86-6cf5a27255f5",
   "metadata": {},
   "outputs": [
    {
     "ename": "TypeError",
     "evalue": "unsupported operand type(s) for +: 'dict' and 'dict'",
     "output_type": "error",
     "traceback": [
      "\u001b[1;31m---------------------------------------------------------------------------\u001b[0m",
      "\u001b[1;31mTypeError\u001b[0m                                 Traceback (most recent call last)",
      "Cell \u001b[1;32mIn[48], line 3\u001b[0m\n\u001b[0;32m      1\u001b[0m d1\u001b[38;5;241m=\u001b[39m{\u001b[38;5;124m'\u001b[39m\u001b[38;5;124mramesh\u001b[39m\u001b[38;5;124m'\u001b[39m:\u001b[38;5;241m20\u001b[39m}\n\u001b[0;32m      2\u001b[0m d2\u001b[38;5;241m=\u001b[39m{\u001b[38;5;124m'\u001b[39m\u001b[38;5;124mfruit\u001b[39m\u001b[38;5;124m'\u001b[39m:\u001b[38;5;124m'\u001b[39m\u001b[38;5;124mapple\u001b[39m\u001b[38;5;124m'\u001b[39m}\n\u001b[1;32m----> 3\u001b[0m d1\u001b[38;5;241m+\u001b[39md2\n",
      "\u001b[1;31mTypeError\u001b[0m: unsupported operand type(s) for +: 'dict' and 'dict'"
     ]
    }
   ],
   "source": [
    "d1={'ramesh':20}\n",
    "d2={'fruit':'apple'}\n",
    "d1+d2"
   ]
  },
  {
   "cell_type": "markdown",
   "id": "7993b05e-f99c-4a3e-a774-cbce62fa3cf5",
   "metadata": {},
   "source": [
    "**items-values-keys**"
   ]
  },
  {
   "cell_type": "code",
   "execution_count": 51,
   "id": "2ade2860-3bc8-46af-a8bf-fd76ca6ee8b1",
   "metadata": {},
   "outputs": [
    {
     "data": {
      "text/plain": [
       "dict_items([('ramesh', 20), ('suresh', 30), ('satish', 40)])"
      ]
     },
     "execution_count": 51,
     "metadata": {},
     "output_type": "execute_result"
    }
   ],
   "source": [
    "d={'ramesh': 20, 'suresh': 30, 'satish': 40}\n",
    "d.items()"
   ]
  },
  {
   "cell_type": "code",
   "execution_count": 53,
   "id": "d2ef9e4d-980c-4c77-aad6-9dad2fd4ad66",
   "metadata": {},
   "outputs": [
    {
     "data": {
      "text/plain": [
       "dict_values([20, 30, 40])"
      ]
     },
     "execution_count": 53,
     "metadata": {},
     "output_type": "execute_result"
    }
   ],
   "source": [
    "d={'ramesh': 20, 'suresh': 30, 'satish': 40}\n",
    "keys=d.keys()"
   ]
  },
  {
   "cell_type": "code",
   "execution_count": 57,
   "id": "b9720374-7581-4484-9a18-49c8e4c00bc1",
   "metadata": {},
   "outputs": [
    {
     "data": {
      "text/plain": [
       "dict_keys(['ramesh', 'suresh', 'satish'])"
      ]
     },
     "execution_count": 57,
     "metadata": {},
     "output_type": "execute_result"
    }
   ],
   "source": [
    "d={'ramesh': 20, 'suresh': 30, 'satish': 40}\n",
    "keys=d.keys()\n",
    "keys"
   ]
  },
  {
   "cell_type": "code",
   "execution_count": 59,
   "id": "9f0881e6-1989-46fe-a43f-37fd7a7c04a4",
   "metadata": {},
   "outputs": [
    {
     "data": {
      "text/plain": [
       "dict_keys"
      ]
     },
     "execution_count": 59,
     "metadata": {},
     "output_type": "execute_result"
    }
   ],
   "source": [
    "type(keys)"
   ]
  },
  {
   "cell_type": "code",
   "execution_count": 61,
   "id": "ec994ccf-702c-47b5-971a-1ee399fad576",
   "metadata": {},
   "outputs": [
    {
     "data": {
      "text/plain": [
       "['ramesh', 'suresh', 'satish']"
      ]
     },
     "execution_count": 61,
     "metadata": {},
     "output_type": "execute_result"
    }
   ],
   "source": [
    "d={'ramesh': 20, 'suresh': 30, 'satish': 40}\n",
    "keys=d.keys() #dict_keys type\n",
    "list(keys)   #list type"
   ]
  },
  {
   "cell_type": "code",
   "execution_count": 63,
   "id": "12da7556-4a0e-4675-8cc7-f231f715a539",
   "metadata": {},
   "outputs": [
    {
     "data": {
      "text/plain": [
       "[20, 30, 40]"
      ]
     },
     "execution_count": 63,
     "metadata": {},
     "output_type": "execute_result"
    }
   ],
   "source": [
    "d={'ramesh': 20, 'suresh': 30, 'satish': 40}\n",
    "values=d.values()\n",
    "list(values)"
   ]
  },
  {
   "cell_type": "code",
   "execution_count": 69,
   "id": "07c49fe8-91f1-424c-9d17-2f287a0103bf",
   "metadata": {},
   "outputs": [
    {
     "data": {
      "text/plain": [
       "[('ramesh', 20), ('suresh', 30), ('satish', 40)]"
      ]
     },
     "execution_count": 69,
     "metadata": {},
     "output_type": "execute_result"
    }
   ],
   "source": [
    "d={'ramesh': 20, 'suresh': 30, 'satish': 40}\n",
    "items=list(d.items())\n",
    "items"
   ]
  },
  {
   "cell_type": "code",
   "execution_count": null,
   "id": "d8626388-9f6f-4a9c-b6f4-1601a5509bf2",
   "metadata": {},
   "outputs": [],
   "source": [
    "d1={'ramesh': 20, 'suresh': 30, 'satish': 40}\n",
    "keys=[]\n",
    "values=[]\n",
    "for key in d1:\n",
    "    keys.append(key)\n",
    "    values.append(d1[key])\n",
    "keys,values\n",
    "##################################################################\n",
    "d={'ramesh': 20, 'suresh': 30, 'satish': 40}\n",
    "keys=[key for key in d]\n",
    "values=[d1[key] for key in d]\n",
    "###################################################################\n",
    "d={'ramesh': 20, 'suresh': 30, 'satish': 40}\n",
    "items=list(d.items())\n",
    "values=list(d.values())\n",
    "keys=list(d.keys())"
   ]
  },
  {
   "cell_type": "code",
   "execution_count": 79,
   "id": "857ef33a-0034-4bdd-9b59-09b9151a7f12",
   "metadata": {},
   "outputs": [
    {
     "data": {
      "text/plain": [
       "{'ramesh': '20', 'suresh': '30', 'satish': '40'}"
      ]
     },
     "execution_count": 79,
     "metadata": {},
     "output_type": "execute_result"
    }
   ],
   "source": [
    "d={'ramesh': 20, 'suresh': 30, 'satish': 40}\n",
    "keys=[i.lower() for i in list(d.keys())]\n",
    "values=[str(i) for i in list(d.values())]\n",
    "{key:value for key,value in zip(keys,values)}"
   ]
  },
  {
   "cell_type": "markdown",
   "id": "a05f0738-2bd0-49a8-bdb1-1f3e624daa41",
   "metadata": {},
   "source": [
    "**get**"
   ]
  },
  {
   "cell_type": "code",
   "execution_count": 85,
   "id": "a42fa958-6795-4f68-a7a8-d3d3b55fc279",
   "metadata": {},
   "outputs": [
    {
     "data": {
      "text/plain": [
       "40"
      ]
     },
     "execution_count": 85,
     "metadata": {},
     "output_type": "execute_result"
    }
   ],
   "source": [
    "d={'ramesh': 20, 'suresh': 30, 'satish': 40}\n",
    "d.get('satish')"
   ]
  },
  {
   "cell_type": "code",
   "execution_count": null,
   "id": "b193028f-70a3-41cd-84af-5c8c74c76536",
   "metadata": {},
   "outputs": [],
   "source": [
    "d={'ramesh': 20, 'suresh': 30, 'satish': 40}\n",
    "d.get('satish') #will get ans\n",
    "d.get('ram')   #no ans no error\n",
    "#############################################\n",
    "d['ramesh'] #get ans\n",
    "d['ram']  #get error"
   ]
  },
  {
   "cell_type": "markdown",
   "id": "be02e27f-a39f-40d2-91aa-3515050edabf",
   "metadata": {},
   "source": [
    "**update**"
   ]
  },
  {
   "cell_type": "code",
   "execution_count": 90,
   "id": "03efdfe4-3cf4-476f-8569-85ce7e6c4f49",
   "metadata": {},
   "outputs": [
    {
     "data": {
      "text/plain": [
       "{'ramesh': 20, 'suresh': 30, 'satish': 40, 'fruits': 'apple'}"
      ]
     },
     "execution_count": 90,
     "metadata": {},
     "output_type": "execute_result"
    }
   ],
   "source": [
    "d={'ramesh': 20, 'suresh': 30, 'satish': 40}\n",
    "d1={'fruits':'apple'}\n",
    "d.update(d1)\n",
    "d"
   ]
  },
  {
   "cell_type": "code",
   "execution_count": 98,
   "id": "0c63d67d-d1d5-4b36-a1a2-2225f3d2d267",
   "metadata": {},
   "outputs": [
    {
     "data": {
      "text/plain": [
       "{'ramesh': 20, 'suresh': 30, 'satish': 40, 'fruits': 'apple', 'apple': 200}"
      ]
     },
     "execution_count": 98,
     "metadata": {},
     "output_type": "execute_result"
    }
   ],
   "source": [
    "d.update(apple=200)\n",
    "d"
   ]
  },
  {
   "cell_type": "code",
   "execution_count": 104,
   "id": "40535503-5d6a-4786-8e59-ba497fc93ee0",
   "metadata": {},
   "outputs": [
    {
     "data": {
      "text/plain": [
       "{'ramesh': 20,\n",
       " 'suresh': 30,\n",
       " 'satish': 40,\n",
       " 'fruits': 'apple',\n",
       " 'apple': 200,\n",
       " 200: 'marks'}"
      ]
     },
     "execution_count": 104,
     "metadata": {},
     "output_type": "execute_result"
    }
   ],
   "source": [
    "d.update([(200,'marks')])\n",
    "d"
   ]
  },
  {
   "cell_type": "code",
   "execution_count": 106,
   "id": "c38206d9-4bda-48e3-89d8-ea5fa943f6bf",
   "metadata": {},
   "outputs": [
    {
     "data": {
      "text/plain": [
       "{'ramesh': 20,\n",
       " 'suresh': 30,\n",
       " 'satish': 40,\n",
       " 'fruits': 'apple',\n",
       " 'apple': 200,\n",
       " 200: 'marks'}"
      ]
     },
     "execution_count": 106,
     "metadata": {},
     "output_type": "execute_result"
    }
   ],
   "source": [
    "t=(200,'marks')\n",
    "l=[t]\n",
    "d.update(l)\n",
    "d"
   ]
  },
  {
   "cell_type": "markdown",
   "id": "d3dc20f7-abae-4fe3-8abe-9347c5dcec0d",
   "metadata": {},
   "source": [
    "- concatenate of two dictionary fails\n",
    "- but we can combine 2 dictionary methods using update method"
   ]
  },
  {
   "cell_type": "code",
   "execution_count": 109,
   "id": "83033ac3-f87a-4b56-8615-4d25e8e4d9bd",
   "metadata": {},
   "outputs": [
    {
     "data": {
      "text/plain": [
       "{'ramesh': 20, 'suresh': 30, 'satish': 40, 'fruits': 'apple'}"
      ]
     },
     "execution_count": 109,
     "metadata": {},
     "output_type": "execute_result"
    }
   ],
   "source": [
    "d={'ramesh': 20, 'suresh': 30, 'satish': 40}\n",
    "d1={'fruits':'apple'}\n",
    "d.update(d1)\n",
    "d\n"
   ]
  },
  {
   "cell_type": "code",
   "execution_count": 113,
   "id": "a36ba724-d537-49ec-ab78-88cce90999d0",
   "metadata": {},
   "outputs": [
    {
     "data": {
      "text/plain": [
       "{'ramesh': 20, 'suresh': 30, 'satish': 40, 'fruits': 'apple', 'banana': 80}"
      ]
     },
     "execution_count": 113,
     "metadata": {},
     "output_type": "execute_result"
    }
   ],
   "source": [
    "d.update(banana=80)\n",
    "d"
   ]
  },
  {
   "cell_type": "code",
   "execution_count": 117,
   "id": "0e552851-6558-4ca0-bfbf-9fc8176178dc",
   "metadata": {},
   "outputs": [
    {
     "data": {
      "text/plain": [
       "{'ramesh': 20,\n",
       " 'suresh': 30,\n",
       " 'satish': 40,\n",
       " 'fruits': 'apple',\n",
       " 'banana': 80,\n",
       " 500: 'marks'}"
      ]
     },
     "execution_count": 117,
     "metadata": {},
     "output_type": "execute_result"
    }
   ],
   "source": [
    "t=(500,'marks')\n",
    "l=[t]\n",
    "d.update(l)\n",
    "d"
   ]
  },
  {
   "cell_type": "markdown",
   "id": "faee21af-b5ce-45e8-a0c5-8282be88d51b",
   "metadata": {},
   "source": [
    "**pop-popitem**"
   ]
  },
  {
   "cell_type": "code",
   "execution_count": 121,
   "id": "97cf1023-db55-4a06-a0c0-dd7a9f60b2fb",
   "metadata": {},
   "outputs": [
    {
     "data": {
      "text/plain": [
       "30"
      ]
     },
     "execution_count": 121,
     "metadata": {},
     "output_type": "execute_result"
    }
   ],
   "source": [
    "d={'ramesh': 20, 'suresh': 30, 'satish': 40}\n",
    "d.pop('suresh') #expecting key"
   ]
  },
  {
   "cell_type": "code",
   "execution_count": 123,
   "id": "10b843cb-dfaf-4a74-9045-573104014811",
   "metadata": {},
   "outputs": [
    {
     "data": {
      "text/plain": [
       "{'ramesh': 20, 'satish': 40}"
      ]
     },
     "execution_count": 123,
     "metadata": {},
     "output_type": "execute_result"
    }
   ],
   "source": [
    "d"
   ]
  },
  {
   "cell_type": "code",
   "execution_count": 125,
   "id": "192167a4-1a41-4ff5-9bc4-71067ff9628b",
   "metadata": {},
   "outputs": [
    {
     "data": {
      "text/plain": [
       "4"
      ]
     },
     "execution_count": 125,
     "metadata": {},
     "output_type": "execute_result"
    }
   ],
   "source": [
    "l=[1,2,3,4]\n",
    "l.pop(3) # expecting a index"
   ]
  },
  {
   "cell_type": "code",
   "execution_count": 127,
   "id": "b3b4a73a-7ff8-4b90-a5a8-a1ff71a348e7",
   "metadata": {},
   "outputs": [
    {
     "data": {
      "text/plain": [
       "[1, 2, 3]"
      ]
     },
     "execution_count": 127,
     "metadata": {},
     "output_type": "execute_result"
    }
   ],
   "source": [
    "l"
   ]
  },
  {
   "cell_type": "code",
   "execution_count": 129,
   "id": "709178b2-c561-4b02-b491-752f992cbabe",
   "metadata": {},
   "outputs": [
    {
     "data": {
      "text/plain": [
       "('satish', 40)"
      ]
     },
     "execution_count": 129,
     "metadata": {},
     "output_type": "execute_result"
    }
   ],
   "source": [
    "d={'ramesh': 20, 'suresh': 30, 'satish': 40}\n",
    "d.popitem()"
   ]
  },
  {
   "cell_type": "code",
   "execution_count": 131,
   "id": "732af650-2383-48d7-a29a-96f533456788",
   "metadata": {},
   "outputs": [
    {
     "data": {
      "text/plain": [
       "{'ramesh': 20, 'suresh': 30}"
      ]
     },
     "execution_count": 131,
     "metadata": {},
     "output_type": "execute_result"
    }
   ],
   "source": []
  },
  {
   "cell_type": "code",
   "execution_count": 135,
   "id": "27e659e0-9f9a-4f0e-affa-40c1cfeacbdb",
   "metadata": {},
   "outputs": [
    {
     "data": {
      "text/plain": [
       "('suresh', 30)"
      ]
     },
     "execution_count": 135,
     "metadata": {},
     "output_type": "execute_result"
    }
   ],
   "source": [
    "d={'ramesh': 20, 'suresh': 30}\n",
    "d.popitem()"
   ]
  },
  {
   "cell_type": "markdown",
   "id": "d54d2ca6-cc04-41eb-858b-908565478e05",
   "metadata": {},
   "source": [
    "- pop will except a key,corresponding value will be removed\n",
    "- pop will return the value which is removing\n",
    "- pop item has no arguments,last **key-value pair** will be removed\n",
    "- pop item return last **key-value pair**"
   ]
  },
  {
   "cell_type": "code",
   "execution_count": 140,
   "id": "c3575505-0a02-41eb-825f-996089cdbee5",
   "metadata": {},
   "outputs": [
    {
     "data": {
      "text/plain": [
       "[100, 299, 433]"
      ]
     },
     "execution_count": 140,
     "metadata": {},
     "output_type": "execute_result"
    }
   ],
   "source": [
    "l=[100,299,300,433]\n",
    "del l[2]\n",
    "l"
   ]
  },
  {
   "cell_type": "code",
   "execution_count": 142,
   "id": "525f469c-69fc-47e4-b8f7-d4e120eac891",
   "metadata": {},
   "outputs": [
    {
     "ename": "NameError",
     "evalue": "name 'l' is not defined",
     "output_type": "error",
     "traceback": [
      "\u001b[1;31m---------------------------------------------------------------------------\u001b[0m",
      "\u001b[1;31mNameError\u001b[0m                                 Traceback (most recent call last)",
      "Cell \u001b[1;32mIn[142], line 3\u001b[0m\n\u001b[0;32m      1\u001b[0m l\u001b[38;5;241m=\u001b[39m[\u001b[38;5;241m100\u001b[39m,\u001b[38;5;241m299\u001b[39m,\u001b[38;5;241m300\u001b[39m,\u001b[38;5;241m433\u001b[39m]\n\u001b[0;32m      2\u001b[0m \u001b[38;5;28;01mdel\u001b[39;00m l\n\u001b[1;32m----> 3\u001b[0m l\n",
      "\u001b[1;31mNameError\u001b[0m: name 'l' is not defined"
     ]
    }
   ],
   "source": [
    "l=[100,299,300,433]\n",
    "del l\n",
    "l"
   ]
  },
  {
   "cell_type": "code",
   "execution_count": 146,
   "id": "5ef2f02a-90bf-4959-83b4-6d44d619c6aa",
   "metadata": {},
   "outputs": [
    {
     "data": {
      "text/plain": [
       "{'ramesh': 20, 'satish': 40}"
      ]
     },
     "execution_count": 146,
     "metadata": {},
     "output_type": "execute_result"
    }
   ],
   "source": [
    "d={'ramesh': 20, 'suresh': 30, 'satish': 40}\n",
    "del d['suresh']\n",
    "d"
   ]
  },
  {
   "cell_type": "code",
   "execution_count": 148,
   "id": "0484eff8-7d8d-4dc4-8133-6ee39feb1462",
   "metadata": {},
   "outputs": [
    {
     "ename": "NameError",
     "evalue": "name 'd' is not defined",
     "output_type": "error",
     "traceback": [
      "\u001b[1;31m---------------------------------------------------------------------------\u001b[0m",
      "\u001b[1;31mNameError\u001b[0m                                 Traceback (most recent call last)",
      "Cell \u001b[1;32mIn[148], line 3\u001b[0m\n\u001b[0;32m      1\u001b[0m d\u001b[38;5;241m=\u001b[39m{\u001b[38;5;124m'\u001b[39m\u001b[38;5;124mramesh\u001b[39m\u001b[38;5;124m'\u001b[39m: \u001b[38;5;241m20\u001b[39m, \u001b[38;5;124m'\u001b[39m\u001b[38;5;124msuresh\u001b[39m\u001b[38;5;124m'\u001b[39m: \u001b[38;5;241m30\u001b[39m, \u001b[38;5;124m'\u001b[39m\u001b[38;5;124msatish\u001b[39m\u001b[38;5;124m'\u001b[39m: \u001b[38;5;241m40\u001b[39m}\n\u001b[0;32m      2\u001b[0m \u001b[38;5;28;01mdel\u001b[39;00m(d)\n\u001b[1;32m----> 3\u001b[0m d\n",
      "\u001b[1;31mNameError\u001b[0m: name 'd' is not defined"
     ]
    }
   ],
   "source": [
    "d={'ramesh': 20, 'suresh': 30, 'satish': 40}\n",
    "del(d)\n",
    "d"
   ]
  },
  {
   "cell_type": "code",
   "execution_count": 152,
   "id": "91bcd10a-1cb9-4fd7-a886-bb5b25be1575",
   "metadata": {},
   "outputs": [
    {
     "data": {
      "text/plain": [
       "['prasad', 12, 32, 33, 12, 32, 33, 12, 32, 33]"
      ]
     },
     "execution_count": 152,
     "metadata": {},
     "output_type": "execute_result"
    }
   ],
   "source": []
  },
  {
   "cell_type": "code",
   "execution_count": null,
   "id": "72483f5a-d422-4629-8552-e7a1f6c2436e",
   "metadata": {},
   "outputs": [],
   "source": []
  }
 ],
 "metadata": {
  "kernelspec": {
   "display_name": "Python 3 (ipykernel)",
   "language": "python",
   "name": "python3"
  },
  "language_info": {
   "codemirror_mode": {
    "name": "ipython",
    "version": 3
   },
   "file_extension": ".py",
   "mimetype": "text/x-python",
   "name": "python",
   "nbconvert_exporter": "python",
   "pygments_lexer": "ipython3",
   "version": "3.12.4"
  }
 },
 "nbformat": 4,
 "nbformat_minor": 5
}
